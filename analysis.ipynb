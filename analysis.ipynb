{
 "cells": [
  {
   "cell_type": "code",
   "execution_count": 84,
   "metadata": {},
   "outputs": [],
   "source": [
    "import pandas as pd\n",
    "import matplotlib.pyplot as plt\n",
    "\n",
    "\n",
    "# Load the data into a DataFrame\n",
    "data = pd.read_csv('iphone.csv')\n"
   ]
  },
  {
   "cell_type": "markdown",
   "metadata": {},
   "source": [
    "\n",
    "# Display the first few rows of the DataFrame\n"
   ]
  },
  {
   "cell_type": "code",
   "execution_count": 85,
   "metadata": {},
   "outputs": [
    {
     "data": {
      "text/html": [
       "<div>\n",
       "<style scoped>\n",
       "    .dataframe tbody tr th:only-of-type {\n",
       "        vertical-align: middle;\n",
       "    }\n",
       "\n",
       "    .dataframe tbody tr th {\n",
       "        vertical-align: top;\n",
       "    }\n",
       "\n",
       "    .dataframe thead th {\n",
       "        text-align: right;\n",
       "    }\n",
       "</style>\n",
       "<table border=\"1\" class=\"dataframe\">\n",
       "  <thead>\n",
       "    <tr style=\"text-align: right;\">\n",
       "      <th></th>\n",
       "      <th>Title</th>\n",
       "      <th>Price</th>\n",
       "      <th>Discount</th>\n",
       "      <th>Rating</th>\n",
       "      <th>Number of Ratings</th>\n",
       "      <th>Delivery Details</th>\n",
       "    </tr>\n",
       "  </thead>\n",
       "  <tbody>\n",
       "    <tr>\n",
       "      <th>0</th>\n",
       "      <td>iPhone 16 128 GB: 5G Mobile Phone with Camera ...</td>\n",
       "      <td>73,400</td>\n",
       "      <td>8</td>\n",
       "      <td>4.4 out of 5 stars</td>\n",
       "      <td>376</td>\n",
       "      <td>Fri, 21 Mar</td>\n",
       "    </tr>\n",
       "    <tr>\n",
       "      <th>1</th>\n",
       "      <td>Apple iPhone 14 Plus (256 GB) - Starlight</td>\n",
       "      <td>66,900</td>\n",
       "      <td>33</td>\n",
       "      <td>4.5 out of 5 stars</td>\n",
       "      <td>2,184</td>\n",
       "      <td>Thu, 20 Mar</td>\n",
       "    </tr>\n",
       "    <tr>\n",
       "      <th>2</th>\n",
       "      <td>iPhone 16 Pro 128 GB: 5G Mobile Phone with Cam...</td>\n",
       "      <td>1,12,900</td>\n",
       "      <td>6</td>\n",
       "      <td>4.3 out of 5 stars</td>\n",
       "      <td>166</td>\n",
       "      <td>Thu, 20 Mar</td>\n",
       "    </tr>\n",
       "    <tr>\n",
       "      <th>3</th>\n",
       "      <td>Apple iPhone 15 (128 GB) - Black</td>\n",
       "      <td>61,900</td>\n",
       "      <td>23</td>\n",
       "      <td>4.5 out of 5 stars</td>\n",
       "      <td>3,147</td>\n",
       "      <td>Fri, 21 Mar</td>\n",
       "    </tr>\n",
       "    <tr>\n",
       "      <th>4</th>\n",
       "      <td>Apple iPhone 15 (128 GB) - Pink</td>\n",
       "      <td>61,900</td>\n",
       "      <td>11</td>\n",
       "      <td>4.5 out of 5 stars</td>\n",
       "      <td>3,147</td>\n",
       "      <td>Fri, 21 Mar</td>\n",
       "    </tr>\n",
       "  </tbody>\n",
       "</table>\n",
       "</div>"
      ],
      "text/plain": [
       "                                               Title     Price  Discount  \\\n",
       "0  iPhone 16 128 GB: 5G Mobile Phone with Camera ...    73,400         8   \n",
       "1          Apple iPhone 14 Plus (256 GB) - Starlight    66,900        33   \n",
       "2  iPhone 16 Pro 128 GB: 5G Mobile Phone with Cam...  1,12,900         6   \n",
       "3                   Apple iPhone 15 (128 GB) - Black    61,900        23   \n",
       "4                    Apple iPhone 15 (128 GB) - Pink    61,900        11   \n",
       "\n",
       "               Rating Number of Ratings Delivery Details  \n",
       "0  4.4 out of 5 stars               376      Fri, 21 Mar  \n",
       "1  4.5 out of 5 stars             2,184      Thu, 20 Mar  \n",
       "2  4.3 out of 5 stars               166      Thu, 20 Mar  \n",
       "3  4.5 out of 5 stars             3,147      Fri, 21 Mar  \n",
       "4  4.5 out of 5 stars             3,147      Fri, 21 Mar  "
      ]
     },
     "execution_count": 85,
     "metadata": {},
     "output_type": "execute_result"
    }
   ],
   "source": [
    "data.head()\n"
   ]
  },
  {
   "cell_type": "code",
   "execution_count": 86,
   "metadata": {},
   "outputs": [],
   "source": [
    "data['Price'] = data['Price'].str.replace(',', '').astype(int)\n",
    "data['Number of Ratings']= data['Number of Ratings'].str.replace(',', '').astype(int)\n",
    "data['Rating'] = data['Rating'].str.extract(r'(\\d\\.\\d)').astype(float)"
   ]
  },
  {
   "cell_type": "markdown",
   "metadata": {},
   "source": [
    "\n",
    "# Basic analysis\n",
    "# Summary statistics\n"
   ]
  },
  {
   "cell_type": "code",
   "execution_count": 87,
   "metadata": {},
   "outputs": [
    {
     "name": "stdout",
     "output_type": "stream",
     "text": [
      "               Price   Discount     Rating  Number of Ratings\n",
      "count      16.000000  16.000000  16.000000          16.000000\n",
      "mean    77318.625000  15.500000   4.443750        5391.187500\n",
      "std     27915.698871  11.189281   0.089209       10852.995354\n",
      "min     44999.000000   5.000000   4.300000         150.000000\n",
      "25%     61900.000000   7.750000   4.400000         376.000000\n",
      "50%     71150.000000   9.500000   4.500000        1740.500000\n",
      "75%     76025.000000  23.000000   4.500000        3147.000000\n",
      "max    137900.000000  42.000000   4.600000       33018.000000\n"
     ]
    }
   ],
   "source": [
    "print(data.describe())\n"
   ]
  },
  {
   "cell_type": "markdown",
   "metadata": {},
   "source": [
    "\n",
    "# Check for missing values\n"
   ]
  },
  {
   "cell_type": "code",
   "execution_count": 88,
   "metadata": {},
   "outputs": [
    {
     "name": "stdout",
     "output_type": "stream",
     "text": [
      "Title                0\n",
      "Price                0\n",
      "Discount             0\n",
      "Rating               0\n",
      "Number of Ratings    0\n",
      "Delivery Details     0\n",
      "dtype: int64\n"
     ]
    }
   ],
   "source": [
    "print(data.isnull().sum())\n"
   ]
  },
  {
   "cell_type": "markdown",
   "metadata": {},
   "source": [
    "\n",
    "# Distribution of ratings\n"
   ]
  },
  {
   "cell_type": "code",
   "execution_count": 89,
   "metadata": {},
   "outputs": [
    {
     "name": "stdout",
     "output_type": "stream",
     "text": [
      "Rating\n",
      "4.5    8\n",
      "4.4    4\n",
      "4.3    3\n",
      "4.6    1\n",
      "Name: count, dtype: int64\n"
     ]
    }
   ],
   "source": [
    "print(data['Rating'].value_counts())\n"
   ]
  },
  {
   "cell_type": "markdown",
   "metadata": {},
   "source": [
    "# Average price\n"
   ]
  },
  {
   "cell_type": "code",
   "execution_count": 90,
   "metadata": {},
   "outputs": [
    {
     "data": {
      "text/plain": [
       "77318.625"
      ]
     },
     "execution_count": 90,
     "metadata": {},
     "output_type": "execute_result"
    }
   ],
   "source": [
    "data['Price'].mean()\n"
   ]
  },
  {
   "cell_type": "markdown",
   "metadata": {},
   "source": [
    "# Average discount\n"
   ]
  },
  {
   "cell_type": "code",
   "execution_count": 91,
   "metadata": {},
   "outputs": [
    {
     "data": {
      "text/plain": [
       "15.5"
      ]
     },
     "execution_count": 91,
     "metadata": {},
     "output_type": "execute_result"
    }
   ],
   "source": [
    "data['Discount'].mean()\n"
   ]
  },
  {
   "cell_type": "markdown",
   "metadata": {},
   "source": [
    "# Average number of ratings\n"
   ]
  },
  {
   "cell_type": "code",
   "execution_count": 92,
   "metadata": {},
   "outputs": [
    {
     "data": {
      "text/plain": [
       "5391.1875"
      ]
     },
     "execution_count": 92,
     "metadata": {},
     "output_type": "execute_result"
    }
   ],
   "source": [
    "data['Number of Ratings'].mean()"
   ]
  },
  {
   "cell_type": "markdown",
   "metadata": {},
   "source": [
    "\n",
    "# Plot the distribution of prices\n"
   ]
  },
  {
   "cell_type": "code",
   "execution_count": 93,
   "metadata": {},
   "outputs": [
    {
     "data": {
      "image/png": "[encoded data removed]",
      "text/plain": [
       "<Figure size 1000x600 with 1 Axes>"
      ]
     },
     "metadata": {},
     "output_type": "display_data"
    }
   ],
   "source": [
    "plt.figure(figsize=(10, 6))\n",
    "plt.hist(data['Price'], bins=10, color='blue', edgecolor='black')\n",
    "plt.title('Distribution of iPhone Prices')\n",
    "plt.xlabel('Price')\n",
    "plt.ylabel('Frequency')\n",
    "plt.show()\n"
   ]
  },
  {
   "cell_type": "markdown",
   "metadata": {},
   "source": [
    "\n",
    "# Plot the distribution of ratings\n"
   ]
  },
  {
   "cell_type": "code",
   "execution_count": 94,
   "metadata": {},
   "outputs": [
    {
     "data": {
      "image/png": "[encoded data removed]",
      "text/plain": [
       "<Figure size 1000x600 with 1 Axes>"
      ]
     },
     "metadata": {},
     "output_type": "display_data"
    }
   ],
   "source": [
    "plt.figure(figsize=(10, 6))\n",
    "plt.hist(data['Rating'], bins=5, color='green', edgecolor='black')\n",
    "plt.title('Distribution of iPhone Ratings')\n",
    "plt.xlabel('Rating')\n",
    "plt.ylabel('Frequency')\n",
    "plt.show()\n"
   ]
  },
  {
   "cell_type": "markdown",
   "metadata": {},
   "source": [
    "\n",
    "# Scatter plot of Price vs Number of Ratings\n"
   ]
  },
  {
   "cell_type": "code",
   "execution_count": 95,
   "metadata": {},
   "outputs": [
    {
     "data": {
      "image/png": "[encoded data removed]",
      "text/plain": [
       "<Figure size 1000x600 with 1 Axes>"
      ]
     },
     "metadata": {},
     "output_type": "display_data"
    }
   ],
   "source": [
    "plt.figure(figsize=(10, 6))\n",
    "plt.scatter(data['Price'], data['Number of Ratings'], color='red')\n",
    "plt.title('Price vs Number of Ratings')\n",
    "plt.xlabel('Price')\n",
    "plt.ylabel('Number of Ratings')\n",
    "plt.show()"
   ]
  },
  {
   "cell_type": "markdown",
   "metadata": {},
   "source": [
    "# Find the product with the highest rating and highest number of ratings\n"
   ]
  },
  {
   "cell_type": "code",
   "execution_count": 96,
   "metadata": {},
   "outputs": [
    {
     "name": "stdout",
     "output_type": "stream",
     "text": [
      "Best product to buy based on highest rating:\n",
      "Title                Apple iPhone 15 Plus (128 GB) - Black\n",
      "Price                                                72400\n",
      "Discount                                                 9\n",
      "Rating                                                 4.6\n",
      "Number of Ratings                                     1297\n",
      "Delivery Details                               Fri, 21 Mar\n",
      "Name: 13, dtype: object\n"
     ]
    }
   ],
   "source": [
    "best_product = data.loc[data['Rating'].idxmax()]\n",
    "\n",
    "print(\"Best product to buy based on highest rating:\")\n",
    "print(best_product)"
   ]
  },
  {
   "cell_type": "markdown",
   "metadata": {},
   "source": [
    "# Find the product with maximum discount\n"
   ]
  },
  {
   "cell_type": "code",
   "execution_count": 97,
   "metadata": {},
   "outputs": [
    {
     "name": "stdout",
     "output_type": "stream",
     "text": [
      "Product with the maximum discount:\n",
      "Title                Apple iPhone 14 Plus (512 GB) - (Product) RED\n",
      "Price                                                        69900\n",
      "Discount                                                        42\n",
      "Rating                                                         4.5\n",
      "Number of Ratings                                             2184\n",
      "Delivery Details                                       Fri, 21 Mar\n",
      "Name: 15, dtype: object\n"
     ]
    }
   ],
   "source": [
    "max_discount_product = data.loc[data['Discount'].idxmax()]\n",
    "\n",
    "print(\"Product with the maximum discount:\")\n",
    "print(max_discount_product)"
   ]
  }
 ],
 "metadata": {
  "kernelspec": {
   "display_name": "base",
   "language": "python",
   "name": "python3"
  },
  "language_info": {
   "codemirror_mode": {
    "name": "ipython",
    "version": 3
   },
   "file_extension": ".py",
   "mimetype": "text/x-python",
   "name": "python",
   "nbconvert_exporter": "python",
   "pygments_lexer": "ipython3",
   "version": "3.12.4"
  }
 },
 "nbformat": 4,
 "nbformat_minor": 2
}
