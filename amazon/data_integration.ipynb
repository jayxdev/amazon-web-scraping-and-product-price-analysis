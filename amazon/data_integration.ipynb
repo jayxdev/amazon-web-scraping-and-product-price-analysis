{
 "cells": [
  {
   "cell_type": "code",
   "execution_count": 2,
   "metadata": {},
   "outputs": [],
   "source": [
    "import pandas as pd"
   ]
  },
  {
   "cell_type": "code",
   "execution_count": 3,
   "metadata": {},
   "outputs": [],
   "source": [
    "uk=pd.read_csv('iphone_co.uk.csv')\n",
    "india=pd.read_csv('iphone_in.csv')\n",
    "us=pd.read_csv('iphone_com.csv')\n",
    "de=pd.read_csv('iphone_de.csv')\n",
    "fr=pd.read_csv('iphone_fr.csv')\n",
    "it=pd.read_csv('iphone_it.csv')\n",
    "es=pd.read_csv('iphone_es.csv')\n",
    "jp=pd.read_csv('iphone_jp.csv')\n",
    "nl=pd.read_csv('iphone_nl.csv')\n"
   ]
  },
  {
   "cell_type": "code",
   "execution_count": 4,
   "metadata": {},
   "outputs": [
    {
     "data": {
      "text/html": [
       "<div>\n",
       "<style scoped>\n",
       "    .dataframe tbody tr th:only-of-type {\n",
       "        vertical-align: middle;\n",
       "    }\n",
       "\n",
       "    .dataframe tbody tr th {\n",
       "        vertical-align: top;\n",
       "    }\n",
       "\n",
       "    .dataframe thead th {\n",
       "        text-align: right;\n",
       "    }\n",
       "</style>\n",
       "<table border=\"1\" class=\"dataframe\">\n",
       "  <thead>\n",
       "    <tr style=\"text-align: right;\">\n",
       "      <th></th>\n",
       "      <th>Title</th>\n",
       "      <th>Price</th>\n",
       "      <th>Discount</th>\n",
       "      <th>Rating</th>\n",
       "      <th>Number of Ratings</th>\n",
       "      <th>Delivery Details</th>\n",
       "    </tr>\n",
       "  </thead>\n",
       "  <tbody>\n",
       "    <tr>\n",
       "      <th>0</th>\n",
       "      <td>Apple</td>\n",
       "      <td>£449.00</td>\n",
       "      <td>0</td>\n",
       "      <td>4.7 out of 5 stars</td>\n",
       "      <td>3,632</td>\n",
       "      <td>Fri, 28 Mar</td>\n",
       "    </tr>\n",
       "    <tr>\n",
       "      <th>1</th>\n",
       "      <td>Apple</td>\n",
       "      <td>£739.00</td>\n",
       "      <td>0</td>\n",
       "      <td>4.5 out of 5 stars</td>\n",
       "      <td>209</td>\n",
       "      <td>Fri, 28 Mar</td>\n",
       "    </tr>\n",
       "    <tr>\n",
       "      <th>2</th>\n",
       "      <td>Apple</td>\n",
       "      <td>£639.00</td>\n",
       "      <td>0</td>\n",
       "      <td>4.6 out of 5 stars</td>\n",
       "      <td>4,577</td>\n",
       "      <td>Fri, 28 Mar</td>\n",
       "    </tr>\n",
       "    <tr>\n",
       "      <th>3</th>\n",
       "      <td>Apple iPhone 13, 128GB, Midnight - (Renewed)</td>\n",
       "      <td>£290.00</td>\n",
       "      <td>0</td>\n",
       "      <td>4.0 out of 5 stars</td>\n",
       "      <td>747</td>\n",
       "      <td>Thu, 27 Mar</td>\n",
       "    </tr>\n",
       "    <tr>\n",
       "      <th>4</th>\n",
       "      <td>Apple iPhone 12, 64GB, Black (Renewed)</td>\n",
       "      <td>£193.00</td>\n",
       "      <td>0</td>\n",
       "      <td>4.0 out of 5 stars</td>\n",
       "      <td>10,389</td>\n",
       "      <td>Tomorrow, 26 Mar</td>\n",
       "    </tr>\n",
       "  </tbody>\n",
       "</table>\n",
       "</div>"
      ],
      "text/plain": [
       "                                          Title    Price  Discount  \\\n",
       "0                                         Apple  £449.00         0   \n",
       "1                                         Apple  £739.00         0   \n",
       "2                                         Apple  £639.00         0   \n",
       "3  Apple iPhone 13, 128GB, Midnight - (Renewed)  £290.00         0   \n",
       "4        Apple iPhone 12, 64GB, Black (Renewed)  £193.00         0   \n",
       "\n",
       "               Rating Number of Ratings  Delivery Details  \n",
       "0  4.7 out of 5 stars             3,632       Fri, 28 Mar  \n",
       "1  4.5 out of 5 stars               209       Fri, 28 Mar  \n",
       "2  4.6 out of 5 stars             4,577       Fri, 28 Mar  \n",
       "3  4.0 out of 5 stars               747       Thu, 27 Mar  \n",
       "4  4.0 out of 5 stars            10,389  Tomorrow, 26 Mar  "
      ]
     },
     "execution_count": 4,
     "metadata": {},
     "output_type": "execute_result"
    }
   ],
   "source": [
    "uk.head()"
   ]
  },
  {
   "cell_type": "code",
   "execution_count": 5,
   "metadata": {},
   "outputs": [
    {
     "name": "stdout",
     "output_type": "stream",
     "text": [
      "  Country                                         Title  Price  Discount  \\\n",
      "0      UK                                         Apple  449.0         0   \n",
      "1      UK                                         Apple  739.0         0   \n",
      "2      UK                                         Apple  639.0         0   \n",
      "3      UK  Apple iPhone 13, 128GB, Midnight - (Renewed)  290.0         0   \n",
      "4      UK        Apple iPhone 12, 64GB, Black (Renewed)  193.0         0   \n",
      "\n",
      "   Rating  Number of Ratings  \n",
      "0     4.7               3632  \n",
      "1     4.5                209  \n",
      "2     4.6               4577  \n",
      "3     4.0                747  \n",
      "4     4.0              10389  \n"
     ]
    }
   ],
   "source": [
    "# Combine all datasets into a single dataframe\n",
    "combined_df = pd.concat([uk, india, us, de, fr, it, es, jp, nl], keys=['UK', 'India', 'US', 'DE', 'FR', 'IT', 'ES', 'JP', 'NL'])\n",
    "\n",
    "# Reset index to have a clean dataframe\n",
    "combined_df.reset_index(level=0, inplace=True)\n",
    "combined_df.rename(columns={'level_0': 'Country'}, inplace=True)\n",
    "combined_df.drop(columns=['Delivery Details'], inplace=True)\n",
    "\n",
    "# Format the 'Price' column to float\n",
    "combined_df['Price'] = combined_df['Price'].replace(r'[\\€,£,$,¥,₹,￥]', '', regex=True).replace('', '0').astype(float)\n",
    "\n",
    "# Format the 'Rating' column to float with only the first value\n",
    "combined_df['Rating'] = combined_df['Rating'].str.extract(r'(\\d+\\.\\d+)').astype(float)\n",
    "\n",
    "# Format the 'Number of Ratings' column to int, filling NaN values with 0\n",
    "combined_df['Number of Ratings'] = pd.to_numeric(combined_df['Number of Ratings'].str.replace(r'[\\.,\\xa0]', '', regex=True), errors='coerce').fillna(0).astype(int)\n",
    "\n",
    "# Display the combined dataframe\n",
    "print(combined_df.head())\n"
   ]
  },
  {
   "cell_type": "code",
   "execution_count": 6,
   "metadata": {},
   "outputs": [
    {
     "name": "stdout",
     "output_type": "stream",
     "text": [
      "               Price      Discount      Rating  Number of Ratings\n",
      "count     296.000000    316.000000  106.000000         316.000000\n",
      "mean    28528.578103    385.433544    4.135849        4549.174051\n",
      "std     34202.553198   2077.168709    0.435822       16514.779257\n",
      "min         0.000000      0.000000    2.000000           0.000000\n",
      "25%      1066.750000      0.000000    4.000000           0.000000\n",
      "50%     18289.000000      0.000000    4.200000         158.000000\n",
      "75%     46906.750000      0.000000    4.400000        1904.000000\n",
      "max    179800.000000  17981.000000    5.000000      213178.000000\n",
      "Country\n",
      "JP       60\n",
      "FR       48\n",
      "IT       48\n",
      "ES       48\n",
      "NL       48\n",
      "UK       16\n",
      "India    16\n",
      "US       16\n",
      "DE       16\n",
      "Name: count, dtype: int64\n",
      "Rating\n",
      "4.3    14\n",
      "4.4    13\n",
      "4.0    12\n",
      "4.2    12\n",
      "4.5    12\n",
      "4.1    11\n",
      "4.6     6\n",
      "3.8     5\n",
      "3.7     4\n",
      "3.5     4\n",
      "4.7     2\n",
      "3.6     2\n",
      "3.9     2\n",
      "2.9     1\n",
      "2.0     1\n",
      "5.0     1\n",
      "3.2     1\n",
      "4.8     1\n",
      "3.0     1\n",
      "2.8     1\n",
      "Name: count, dtype: int64\n",
      "Title\n",
      "Apple                                                                                                                                                                                                     8\n",
      "Apple iPhone XR 64GB - Nero (Ricondizionato)                                                                                                                                                              2\n",
      "ソニー Xperia 10V ブラック SIMフリースマホ XQ-DC44 B 【日本正規代理店品】                                                                                                                                                        1\n",
      "Samsung Galaxy S25 512GB｜シルバー シャドウ｜Galaxy AI対応｜SIMフリースマホ 本体 端末｜FeliCa対応｜Samsung純正 国内正規品｜6.2インチ｜軽量162g｜IP68防水防塵｜フルHD+｜バッテリー 4,000mAh｜SM-S931QZSFSJP                                                        1\n",
      "Apple Gift Card (Eメール送信)— App Store、iTunes、iPhone、iPad、AirPods、MacBook、アクセサリなどの購入に利用できます。                                                                                                                 1\n",
      "Galaxy Z Fold6｜512GB｜シルバーシャドウ｜Galaxy AI対応｜SIMフリー スマホ 本体 端末｜Samsung純正 国内正規品｜折りたたみAIフォン｜FeliCa対応｜メインディスプレイ7.6インチ｜バッテリー 4,400mA｜SM-F956QZSESJP                                                               1\n",
      "【専用アプリ不要 データ移行簡単】４in1 iPhone対応 USBメモリ アプリ不要 128GB データ 高速 バックアップ 写真保存 外付け USB iOS/Type-C/USB/Micro usb搭載 iPad対応 usbメモリー スライド式 スマホ/PC/iPad対応 容量不足解消 ピンク Phone 15/14Pro/12 Pro Max/SE/8 Plus/Pad/タイプc機種対応    1\n",
      "Galaxy Z Flip6 ｜512GB｜シルバーシャドウ｜Galaxy AI対応｜SIMフリー スマホ 本体 端末｜Samsung純正 国内正規品｜折りたたみAIフォン｜FeliCa対応｜メインディスプレイ7.6インチ｜バッテリー 4,000mAh｜SM-F741QZSESJP                                                             1\n",
      "【2025正規MFi認証品】i-Phone 充電ケーブル ライトニングケーブル 純正品質【1M/2M 各２本】充電器 ケーブル 2.4A急速充電 USB 充電コード 高速データ転送 断線防止 高耐久 i-Phone 14/14 Pro/13/13 Pro/12/11/X/8/8plus/7/6/iPad 各種対応                                             1\n",
      "Xiaomi POCO F6 Pro 12GB+256GB 日本語版 Simフリー スマートフォン Qualcomm Snapdragon 8 Gen 2搭載 120Hz 有機ELディスプレイ 120W Xiaomiハイパーチャージ ブラック                                                                                 1\n",
      "Name: count, dtype: int64\n"
     ]
    }
   ],
   "source": [
    "# Descriptive analysis for numerical columns\n",
    "print(combined_df.describe())\n",
    "\n",
    "# Descriptive analysis for categorical columns\n",
    "print(combined_df['Country'].value_counts())\n",
    "print(combined_df['Rating'].value_counts())\n",
    "print(combined_df['Title'].value_counts().head(10))  # Display top 10 most frequent titles"
   ]
  },
  {
   "cell_type": "code",
   "execution_count": 7,
   "metadata": {},
   "outputs": [],
   "source": [
    "combined_df.to_csv('iphone_combined.csv', index=False)"
   ]
  },
  {
   "cell_type": "code",
   "execution_count": 8,
   "metadata": {},
   "outputs": [],
   "source": [
    "combined_df.to_excel('iphone_combined.xlsx', index=False)"
   ]
  },
  {
   "cell_type": "code",
   "execution_count": null,
   "metadata": {},
   "outputs": [],
   "source": []
  }
 ],
 "metadata": {
  "kernelspec": {
   "display_name": "base",
   "language": "python",
   "name": "python3"
  },
  "language_info": {
   "codemirror_mode": {
    "name": "ipython",
    "version": 3
   },
   "file_extension": ".py",
   "mimetype": "text/x-python",
   "name": "python",
   "nbconvert_exporter": "python",
   "pygments_lexer": "ipython3",
   "version": "3.12.4"
  }
 },
 "nbformat": 4,
 "nbformat_minor": 2
}
